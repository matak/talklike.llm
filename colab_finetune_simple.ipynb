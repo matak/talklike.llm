{
 "cells": [
  {
   "cell_type": "markdown",
   "metadata": {},
   "source": [
    "# 🤖 Fine-tuning Babišova stylu - Zjednodušená verze\n",
    "\n",
    "Tento notebook používá externí moduly pro lepší organizaci kódu.\n",
    "\n",
    "## 📁 Struktura modulů:\n",
    "- `colab_config.py` - Konfigurace\n",
    "- `colab_dataset_loader.py` - Načítání datasetu\n",
    "- `colab_model_setup.py` - Nastavení modelu a LoRA\n",
    "- `colab_training.py` - Trénování\n",
    "- `colab_utils.py` - Pomocné funkce"
   ]
  },
  {
   "cell_type": "markdown",
   "metadata": {},
   "source": [
    "## 📦 Instalace a setup"
   ]
  },
  {
   "cell_type": "code",
   "execution_count": null,
   "metadata": {},
   "outputs": [],
   "source": [
    "# Import modulů\n",
    "from colab_config import create_config\n",
    "from colab_dataset_loader import create_babis_dataset, tokenize_dataset\n",
    "from colab_model_setup import load_tokenizer, load_model, setup_lora\n",
    "from colab_training import setup_wandb, create_training_args, create_trainer, train_model\n",
    "from colab_utils import setup_environment, check_gpu, install_requirements, save_model, generate_sample\n",
    "\n",
    "print(\"✅ Všechny moduly načteny!\")"
   ]
  },
  {
   "cell_type": "code",
   "execution_count": null,
   "metadata": {},
   "outputs": [],
   "source": [
    "# Nastavení prostředí\n",
    "setup_environment()\n",
    "check_gpu()"
   ]
  },
  {
   "cell_type": "code",
   "execution_count": null,
   "metadata": {},
   "outputs": [],
   "source": [
    "# Instalace knihoven\n",
    "install_requirements()"
   ]
  },
  {
   "cell_type": "markdown",
   "metadata": {},
   "source": [
    "## ⚙️ Konfigurace"
   ]
  },
  {
   "cell_type": "code",
   "execution_count": null,
   "metadata": {},
   "outputs": [],
   "source": [
    "# Vytvoření konfigurace\n",
    "config = create_config()"
   ]
  },
  {
   "cell_type": "markdown",
   "metadata": {},
   "source": [
    "## 📊 Příprava datasetu"
   ]
  },
  {
   "cell_type": "code",
   "execution_count": null,
   "metadata": {},
   "outputs": [],
   "source": [
    "# Načtení datasetu\n",
    "dataset = create_babis_dataset()\n",
    "print(f\"\\nDataset načten:\")\n",
    "print(f\"Train samples: {len(dataset['train'])}\")\n",
    "print(f\"Validation samples: {len(dataset['validation'])}\")\n",
    "print(f\"\\nPříklad dat:\")\n",
    "print(dataset['train'][0])"
   ]
  },
  {
   "cell_type": "markdown",
   "metadata": {},
   "source": [
    "## 🤖 Načtení modelu a tokenizeru"
   ]
  },
  {
   "cell_type": "code",
   "execution_count": null,
   "metadata": {},
   "outputs": [],
   "source": [
    "# Načtení tokenizeru\n",
    "tokenizer = load_tokenizer(config)"
   ]
  },
  {
   "cell_type": "code",
   "execution_count": null,
   "metadata": {},
   "outputs": [],
   "source": [
    "# Načtení modelu\n",
    "model = load_model(config)"
   ]
  },
  {
   "cell_type": "markdown",
   "metadata": {},
   "source": [
    "## 🎯 Nastavení LoRA"
   ]
  },
  {
   "cell_type": "code",
   "execution_count": null,
   "metadata": {},
   "outputs": [],
   "source": [
    "# Nastavení LoRA\n",
    "model = setup_lora(model, config)"
   ]
  },
  {
   "cell_type": "markdown",
   "metadata": {},
   "source": [
    "## 🔤 Tokenizace datasetu"
   ]
  },
  {
   "cell_type": "code",
   "execution_count": null,
   "metadata": {},
   "outputs": [],
   "source": [
    "# Tokenizace datasetu\n",
    "tokenized_dataset = tokenize_dataset(dataset, tokenizer, config)"
   ]
  },
  {
   "cell_type": "markdown",
   "metadata": {},
   "source": [
    "## 🏋️ Fine-tuning"
   ]
  },
  {
   "cell_type": "code",
   "execution_count": null,
   "metadata": {},
   "outputs": [],
   "source": [
    "# Nastavení Weights & Biases\n",
    "wandb_available = setup_wandb(config)"
   ]
  },
  {
   "cell_type": "code",
   "execution_count": null,
   "metadata": {},
   "outputs": [],
   "source": [
    "# Vytvoření training arguments\n",
    "training_args = create_training_args(config, wandb_available)"
   ]
  },
  {
   "cell_type": "code",
   "execution_count": null,
   "metadata": {},
   "outputs": [],
   "source": [
    "# Vytvoření traineru\n",
    "trainer = create_trainer(model, tokenized_dataset, training_args)"
   ]
  },
  {
   "cell_type": "code",
   "execution_count": null,
   "metadata": {},
   "outputs": [],
   "source": [
    "# Spuštění trénování\n",
    "trainer = train_model(trainer)"
   ]
  },
  {
   "cell_type": "markdown",
   "metadata": {},
   "source": [
    "## 💾 Uložení modelu"
   ]
  },
  {
   "cell_type": "code",
   "execution_count": null,
   "metadata": {},
   "outputs": [],
   "source": [
    "# Uložení modelu\n",
    "save_model(trainer, config)"
   ]
  },
  {
   "cell_type": "markdown",
   "metadata": {},
   "source": [
    "## 🧪 Testování modelu"
   ]
  },
  {
   "cell_type": "code",
   "execution_count": null,
   "metadata": {},
   "outputs": [],
   "source": [
    "# Testovací prompty\n",
    "test_prompts = [\n",
    "    \"Uživatel: Jaký je váš názor na inflaci?\\nAndrej Babiš:\",\n",
    "    \"Uživatel: Co si myslíte o opozici?\\nAndrej Babiš:\",\n",
    "    \"Uživatel: Jak hodnotíte současnou situaci v Bruselu?\\nAndrej Babiš:\"\n",
    "]\n",
    "\n",
    "print(\"🧪 Testování natrénovaného modelu:\")\n",
    "for prompt in test_prompts:\n",
    "    generate_sample(model, tokenizer, prompt)\n",
    "    print(\"-\" * 50)"
   ]
  }
 ],
 "metadata": {
  "kernelspec": {
   "display_name": "Python 3",
   "language": "python",
   "name": "python3"
  },
  "language_info": {
   "codemirror_mode": {
    "name": "ipython",
    "version": 3
   },
   "file_extension": ".py",
   "mimetype": "text/x-python",
   "name": "python",
   "nbconvert_exporter": "python",
   "pygments_lexer": "ipython3",
   "version": "3.8.5"
  }
 },
 "nbformat": 4,
 "nbformat_minor": 4
}