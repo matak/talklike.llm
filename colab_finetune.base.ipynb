{
 "cells": [
  {
   "cell_type": "markdown",
   "metadata": {
    "id": "header"
   },
   "source": [
    "# 🤖 Fine-tuning Babišova stylu - Google Colab\n",
    "\n",
    "Tento notebook implementuje kompletní pipeline pro fine-tuning jazykového modelu na napodobení charakteristického stylu komunikace Andreje Babiše.\n",
    "\n",
    "## 🎯 Cíl\n",
    "Vytvořit model, který dokáže generovat satirické odpovědi ve stylu \"babíšovštiny\" - charakteristického jazykového stylu s mluvenou češtinou, slovensko-českými odchylkami a specifickými rétorickými prvky.\n",
    "\n",
    "## 🚀 Výhody Google Colab\n",
    "- ✅ **Zdarma GPU** (Tesla T4/P100)\n",
    "- ✅ **Žádná instalace** - vše v prohlížeči\n",
    "- ✅ **Automatické ukládání** na Google Drive\n",
    "- ✅ **Sdílení** výsledků přes Hugging Face Hub\n",
    "- ✅ **Monitoring** přes Weights & Biases"
   ]
  },
  {
   "cell_type": "markdown",
   "metadata": {
    "id": "setup"
   },
   "source": [
    "## 📦 Instalace a setup"
   ]
  },
  {
   "cell_type": "code",
   "execution_count": null,
   "metadata": {
    "id": "install_deps"
   },
   "outputs": [],
   "source": [
    "%include:colab_install.py"
   ]
  },
  {
   "cell_type": "code",
   "execution_count": null,
   "metadata": {
    "id": "imports"
   },
   "outputs": [],
   "source": [
    "%include:colab_imports.py"
   ]
  },
  {
   "cell_type": "code",
   "execution_count": null,
   "metadata": {
    "id": "mount_drive"
   },
   "outputs": [],
   "source": [
    "%include:colab_setup_googledrive.py"
   ]
  },
  {
   "cell_type": "markdown",
   "metadata": {
    "id": "config"
   },
   "source": [
    "## ⚙️ Konfigurace"
   ]
  },
  {
   "cell_type": "code",
   "execution_count": null,
   "metadata": {
    "id": "config_class"
   },
   "outputs": [
    {
     "ename": "",
     "evalue": "",
     "output_type": "error",
     "traceback": [
      "\u001b[1;31mRunning cells with 'Python 3.12.8' requires the ipykernel package.\n",
      "\u001b[1;31mRun the following command to install 'ipykernel' into the Python environment. \n",
      "\u001b[1;31mCommand: 'c:/Users/info/AppData/Local/Programs/Python/Python312/python.exe -m pip install ipykernel -U --user --force-reinstall'"
     ]
    }
   ],
   "source": [
    "%include:colab_config.py"
   ]
  },
  {
   "cell_type": "markdown",
   "metadata": {
    "id": "dataset"
   },
   "source": [
    "## 📊 Příprava datasetu"
   ]
  },
  {
   "cell_type": "code",
   "execution_count": null,
   "metadata": {
    "id": "create_dataset"
   },
   "outputs": [],
   "source": [
    "%include:colab_dataset_loader.py"
   ]
  },
  {
   "cell_type": "markdown",
   "metadata": {
    "id": "model"
   },
   "source": [
    "## 🤖 Načtení modelu a tokenizeru"
   ]
  },
  {
   "cell_type": "code",
   "execution_count": null,
   "metadata": {
    "id": "load_model"
   },
   "outputs": [],
   "source": [
    "%include:colab_tokenizer.py"
   ]
  },
  {
   "cell_type": "code",
   "execution_count": null,
   "metadata": {
    "id": "load_model_quantized"
   },
   "outputs": [],
   "source": [
    "%include:colab_model_load.py"
   ]
  },
  {
   "cell_type": "markdown",
   "metadata": {
    "id": "lora"
   },
   "source": [
    "## 🎯 Nastavení LoRA"
   ]
  },
  {
   "cell_type": "code",
   "execution_count": null,
   "metadata": {
    "id": "setup_lora"
   },
   "outputs": [],
   "source": [
    "%include:colab_lora_setup.py"
   ]
  },
  {
   "cell_type": "markdown",
   "metadata": {
    "id": "tokenization"
   },
   "source": [
    "## 🔤 Tokenizace datasetu"
   ]
  },
  {
   "cell_type": "code",
   "execution_count": null,
   "metadata": {
    "id": "tokenize_dataset"
   },
   "outputs": [],
   "source": [
    "%include:colab_tokenization.py"
   ]
  },
  {
   "cell_type": "markdown",
   "metadata": {
    "id": "training"
   },
   "source": [
    "## 🏋️ Fine-tuning"
   ]
  },
  {
   "cell_type": "code",
   "execution_count": null,
   "metadata": {
    "id": "setup_training"
   },
   "outputs": [],
   "source": [
    "%include:colab_wandb_init.py"
   ]
  },
  {
   "cell_type": "code",
   "execution_count": null,
   "metadata": {
    "id": "training_args"
   },
   "outputs": [],
   "source": [
    "%include:colab_training.py"
   ]
  },
  {
   "cell_type": "code",
   "execution_count": null,
   "metadata": {
    "id": "setup_trainer"
   },
   "outputs": [],
   "source": [
    "%include:colab_data_collator.py"
   ]
  },
  {
   "cell_type": "code",
   "execution_count": null,
   "metadata": {
    "id": "start_training"
   },
   "outputs": [],
   "source": [
    "%include:colab_training_start.py"
   ]
  },
  {
   "cell_type": "code",
   "execution_count": null,
   "metadata": {
    "id": "evaluation"
   },
   "outputs": [],
   "source": [
    "%include:colab_training_evaluation.py"
   ]
  },
  {
   "cell_type": "markdown",
   "metadata": {
    "id": "save"
   },
   "source": [
    "## 💾 Uložení modelu"
   ]
  },
  {
   "cell_type": "code",
   "execution_count": null,
   "metadata": {
    "id": "save_model"
   },
   "outputs": [],
   "source": [
    "%include:colab_save_model.py"
   ]
  },
  {
   "cell_type": "markdown",
   "metadata": {
    "id": "push_hub"
   },
   "source": [
    "## 🚀 Push na Hugging Face Hub (volitelné)"
   ]
  },
  {
   "cell_type": "code",
   "execution_count": null,
   "metadata": {
    "id": "setup_hf"
   },
   "outputs": [],
   "source": [
    "%include:colab_hf_push.py"
   ]
  },
  {
   "cell_type": "markdown",
   "metadata": {
    "id": "test"
   },
   "source": [
    "## 🧪 Testování modelu"
   ]
  },
  {
   "cell_type": "code",
   "execution_count": null,
   "metadata": {
    "id": "test_model"
   },
   "outputs": [],
   "source": [
    "%include:colab_testing.py"
   ]
  },
  {
   "cell_type": "markdown",
   "metadata": {
    "id": "gradio"
   },
   "source": [
    "## 🌐 Gradio Interface (volitelné)"
   ]
  },
  {
   "cell_type": "code",
   "execution_count": null,
   "metadata": {
    "id": "gradio_interface"
   },
   "outputs": [],
   "source": [
    "%include:colab_gradio.py"
   ]
  },
  {
   "cell_type": "markdown",
   "metadata": {
    "id": "summary"
   },
   "source": [
    "## 📊 Shrnutí výsledků"
   ]
  },
  {
   "cell_type": "code",
   "execution_count": null,
   "metadata": {
    "id": "results_summary"
   },
   "outputs": [],
   "source": [
    "%include:colab_summary.py"
   ]
  }
 ],
 "metadata": {
  "accelerator": "GPU",
  "colab": {
   "gpuType": "T4",
   "provenance": []
  },
  "kernelspec": {
   "display_name": "Python 3",
   "language": "python",
   "name": "python3"
  },
  "language_info": {
   "codemirror_mode": {
    "name": "ipython",
    "version": 3
   },
   "file_extension": ".py",
   "mimetype": "text/x-python",
   "name": "python",
   "nbconvert_exporter": "python",
   "pygments_lexer": "ipython3",
   "version": "3.12.8"
  }
 },
 "nbformat": 4,
 "nbformat_minor": 0
}
